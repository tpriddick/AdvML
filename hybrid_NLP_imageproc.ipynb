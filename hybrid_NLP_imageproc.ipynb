{
 "cells": [
  {
   "cell_type": "markdown",
   "id": "dee96344",
   "metadata": {},
   "source": [
    "## Multimodal learning! Toy example..."
   ]
  },
  {
   "cell_type": "markdown",
   "id": "ef19f704",
   "metadata": {},
   "source": [
    "\n",
    "<div>\n",
    "<img src=\"./images/multimodal.png\" width=\"800\"/>\n",
    "</div>"
   ]
  },
  {
   "cell_type": "code",
   "execution_count": 1,
   "id": "aa107d8b",
   "metadata": {},
   "outputs": [
    {
     "ename": "OSError",
     "evalue": "[WinError 1455] The paging file is too small for this operation to complete. Error loading \"C:\\Users\\tyler\\anaconda3\\Lib\\site-packages\\torch\\lib\\shm.dll\" or one of its dependencies.",
     "output_type": "error",
     "traceback": [
      "\u001b[1;31m---------------------------------------------------------------------------\u001b[0m",
      "\u001b[1;31mOSError\u001b[0m                                   Traceback (most recent call last)",
      "Cell \u001b[1;32mIn[1], line 1\u001b[0m\n\u001b[1;32m----> 1\u001b[0m \u001b[38;5;28;01mimport\u001b[39;00m \u001b[38;5;21;01mtorch\u001b[39;00m\n\u001b[0;32m      2\u001b[0m \u001b[38;5;28;01mimport\u001b[39;00m \u001b[38;5;21;01mtorch\u001b[39;00m\u001b[38;5;21;01m.\u001b[39;00m\u001b[38;5;21;01mnn\u001b[39;00m \u001b[38;5;28;01mas\u001b[39;00m \u001b[38;5;21;01mnn\u001b[39;00m\n\u001b[0;32m      3\u001b[0m \u001b[38;5;28;01mimport\u001b[39;00m \u001b[38;5;21;01mtorch\u001b[39;00m\u001b[38;5;21;01m.\u001b[39;00m\u001b[38;5;21;01moptim\u001b[39;00m \u001b[38;5;28;01mas\u001b[39;00m \u001b[38;5;21;01moptim\u001b[39;00m\n",
      "File \u001b[1;32m~\\anaconda3\\Lib\\site-packages\\torch\\__init__.py:130\u001b[0m\n\u001b[0;32m    128\u001b[0m     err \u001b[38;5;241m=\u001b[39m ctypes\u001b[38;5;241m.\u001b[39mWinError(last_error)\n\u001b[0;32m    129\u001b[0m     err\u001b[38;5;241m.\u001b[39mstrerror \u001b[38;5;241m+\u001b[39m\u001b[38;5;241m=\u001b[39m \u001b[38;5;124mf\u001b[39m\u001b[38;5;124m'\u001b[39m\u001b[38;5;124m Error loading \u001b[39m\u001b[38;5;124m\"\u001b[39m\u001b[38;5;132;01m{\u001b[39;00mdll\u001b[38;5;132;01m}\u001b[39;00m\u001b[38;5;124m\"\u001b[39m\u001b[38;5;124m or one of its dependencies.\u001b[39m\u001b[38;5;124m'\u001b[39m\n\u001b[1;32m--> 130\u001b[0m     \u001b[38;5;28;01mraise\u001b[39;00m err\n\u001b[0;32m    131\u001b[0m \u001b[38;5;28;01melif\u001b[39;00m res \u001b[38;5;129;01mis\u001b[39;00m \u001b[38;5;129;01mnot\u001b[39;00m \u001b[38;5;28;01mNone\u001b[39;00m:\n\u001b[0;32m    132\u001b[0m     is_loaded \u001b[38;5;241m=\u001b[39m \u001b[38;5;28;01mTrue\u001b[39;00m\n",
      "\u001b[1;31mOSError\u001b[0m: [WinError 1455] The paging file is too small for this operation to complete. Error loading \"C:\\Users\\tyler\\anaconda3\\Lib\\site-packages\\torch\\lib\\shm.dll\" or one of its dependencies."
     ]
    }
   ],
   "source": [
    "import torch\n",
    "import torch.nn as nn\n",
    "import torch.optim as optim\n",
    "import torchvision\n",
    "import torchvision.transforms as transforms\n",
    "from torchtext.vocab import GloVe\n",
    "\n",
    "# Define a simple function to generate text descriptions\n",
    "def generate_text_description(label):\n",
    "    descriptions = [\n",
    "        \"This is a photo of an airplane.\",\n",
    "        \"This is a photo of an automobile.\",\n",
    "        \"This is a photo of a bird.\",\n",
    "        \"This is a photo of a cat.\",\n",
    "        \"This is a photo of a deer.\",\n",
    "        \"This is a photo of a dog.\",\n",
    "        \"This is a photo of a frog.\",\n",
    "        \"This is a photo of a horse.\",\n",
    "        \"This is a photo of a ship.\",\n",
    "        \"This is a photo of a truck.\"\n",
    "    ]\n",
    "    return descriptions[label]\n",
    "\n",
    "# Transform to normalize the image data\n",
    "transform = transforms.Compose(\n",
    "    [transforms.ToTensor(),\n",
    "     transforms.Normalize((0.5, 0.5, 0.5), (0.5, 0.5, 0.5))])\n",
    "\n",
    "# Load the CIFAR-10 dataset\n",
    "trainset = torchvision.datasets.CIFAR10(root='./data', train=True,\n",
    "                                        download=True, transform=transform)\n",
    "trainloader = torch.utils.data.DataLoader(trainset, batch_size=4,\n",
    "                                          shuffle=True, num_workers=2)\n",
    "\n",
    "testset = torchvision.datasets.CIFAR10(root='./data', train=False,\n",
    "                                       download=True, transform=transform)\n",
    "testloader = torch.utils.data.DataLoader(testset, batch_size=4,\n",
    "                                         shuffle=False, num_workers=2)\n",
    "\n",
    "classes = ('plane', 'car', 'bird', 'cat',\n",
    "           'deer', 'dog', 'frog', 'horse', 'ship', 'truck')\n"
   ]
  },
  {
   "cell_type": "code",
   "execution_count": null,
   "id": "90d7497a",
   "metadata": {},
   "outputs": [],
   "source": []
  },
  {
   "cell_type": "code",
   "execution_count": 2,
   "id": "04aee28f",
   "metadata": {},
   "outputs": [],
   "source": [
    "# Load GloVe embeddings\n",
    "glove = GloVe(name='6B', dim=50)\n",
    "\n",
    "# Define the neural network\n",
    "class CombinedNN(nn.Module):\n",
    "    def __init__(self, pretrained_embeddings, num_classes=10):\n",
    "        super(CombinedNN, self).__init__()\n",
    "        \n",
    "        # Image CNN\n",
    "        self.conv1 = nn.Conv2d(3, 6, 5)\n",
    "        self.pool = nn.MaxPool2d(2, 2)\n",
    "        self.conv2 = nn.Conv2d(6, 16, 5)\n",
    "        self.fc1_img = nn.Linear(16 * 5 * 5, 120)\n",
    "        self.fc2_img = nn.Linear(120, 84)\n",
    "        \n",
    "        # Text embeddings\n",
    "        vocab_size, embedding_dim = pretrained_embeddings.shape\n",
    "        self.embedding = nn.Embedding.from_pretrained(pretrained_embeddings, freeze=True)\n",
    "        self.fc1_txt = nn.Linear(embedding_dim, 50)\n",
    "        \n",
    "        # Combined\n",
    "        self.fc1_combined = nn.Linear(134, 100)  # 84 (image) + 50 (text) = 134\n",
    "        self.fc2_combined = nn.Linear(100, num_classes)\n",
    "        self.relu = nn.ReLU()\n",
    "        self.softmax = nn.LogSoftmax(dim=1)\n",
    "    \n",
    "    def forward(self, img, text):\n",
    "        # Image forward pass\n",
    "        x_img = self.pool(self.relu(self.conv1(img)))\n",
    "        x_img = self.pool(self.relu(self.conv2(x_img)))\n",
    "        x_img = x_img.view(-1, 16 * 5 * 5)\n",
    "        x_img = self.relu(self.fc1_img(x_img))\n",
    "        x_img = self.relu(self.fc2_img(x_img))\n",
    "        \n",
    "        # Text forward pass\n",
    "        embedded = self.embedding(text)\n",
    "        embedded_avg = torch.mean(embedded, dim=1)\n",
    "        x_txt = self.relu(self.fc1_txt(embedded_avg))\n",
    "        \n",
    "        # Combined forward pass\n",
    "        x_combined = torch.cat((x_img, x_txt), dim=1)\n",
    "        x_combined = self.relu(self.fc1_combined(x_combined))\n",
    "        x_combined = self.fc2_combined(x_combined)\n",
    "        x_combined = self.softmax(x_combined)\n",
    "        \n",
    "        return x_combined\n",
    "\n",
    "# Create the model\n",
    "pretrained_embeddings = glove.vectors\n",
    "model = CombinedNN(pretrained_embeddings, num_classes=len(classes))\n"
   ]
  },
  {
   "cell_type": "code",
   "execution_count": 3,
   "id": "376ce147",
   "metadata": {},
   "outputs": [
    {
     "name": "stdout",
     "output_type": "stream",
     "text": [
      "[Epoch 1, Mini-batch 2000] loss: 2.302\n",
      "[Epoch 1, Mini-batch 4000] loss: 2.168\n",
      "[Epoch 1, Mini-batch 6000] loss: 1.900\n",
      "[Epoch 1, Mini-batch 8000] loss: 1.536\n",
      "[Epoch 1, Mini-batch 10000] loss: 1.312\n",
      "[Epoch 1, Mini-batch 12000] loss: 1.227\n",
      "[Epoch 2, Mini-batch 2000] loss: 1.173\n",
      "[Epoch 2, Mini-batch 4000] loss: 1.139\n",
      "[Epoch 2, Mini-batch 6000] loss: 1.110\n",
      "[Epoch 2, Mini-batch 8000] loss: 1.095\n",
      "[Epoch 2, Mini-batch 10000] loss: 1.078\n",
      "[Epoch 2, Mini-batch 12000] loss: 1.050\n",
      "Finished Training\n"
     ]
    }
   ],
   "source": [
    "criterion = nn.CrossEntropyLoss()\n",
    "optimizer = optim.SGD(model.parameters(), lr=0.001, momentum=0.9)\n",
    "\n",
    "for epoch in range(2):  # loop over the dataset multiple times\n",
    "    running_loss = 0.0\n",
    "    for i, data in enumerate(trainloader, 0):\n",
    "        # Get the inputs; data is a list of [inputs, labels]\n",
    "        inputs, labels = data\n",
    "\n",
    "        # Generate text descriptions and convert to indices\n",
    "        descriptions = [generate_text_description(label) for label in labels]\n",
    "        text_indices = torch.tensor([[glove.stoi[word] for word in desc.split() if word in glove.stoi] for desc in descriptions])\n",
    "\n",
    "        # Zero the parameter gradients\n",
    "        optimizer.zero_grad()\n",
    "\n",
    "        # Forward + backward + optimize\n",
    "        outputs = model(inputs, text_indices)\n",
    "        loss = criterion(outputs, labels)\n",
    "        loss.backward()\n",
    "        optimizer.step()\n",
    "\n",
    "        # Print statistics\n",
    "        running_loss += loss.item()\n",
    "        if i % 2000 == 1999:  \n",
    "            print(f'[Epoch {epoch + 1}, Mini-batch {i + 1}] loss: {running_loss / 2000:.3f}')\n",
    "            running_loss = 0.0\n",
    "\n",
    "print('Finished Training')\n"
   ]
  },
  {
   "cell_type": "code",
   "execution_count": 4,
   "id": "80d8b0bb",
   "metadata": {},
   "outputs": [
    {
     "name": "stdout",
     "output_type": "stream",
     "text": [
      "Accuracy of the network on the 10000 test images: 59.65%\n"
     ]
    }
   ],
   "source": [
    "correct = 0\n",
    "total = 0\n",
    "with torch.no_grad():\n",
    "    for data in testloader:\n",
    "        images, labels = data\n",
    "        descriptions = [generate_text_description(label) for label in labels]\n",
    "        text_indices = torch.tensor([[glove.stoi[word] for word in desc.split() if word in glove.stoi] for desc in descriptions])\n",
    "        outputs = model(images, text_indices)\n",
    "        _, predicted = torch.max(outputs, 1)\n",
    "        total += labels.size(0)\n",
    "        correct += (predicted == labels).sum().item()\n",
    "\n",
    "print(f'Accuracy of the network on the 10000 test images: {100 * correct / total}%')\n"
   ]
  },
  {
   "cell_type": "code",
   "execution_count": null,
   "id": "18a26fad",
   "metadata": {},
   "outputs": [],
   "source": []
  },
  {
   "cell_type": "code",
   "execution_count": null,
   "id": "4b4602a6",
   "metadata": {},
   "outputs": [],
   "source": []
  },
  {
   "cell_type": "code",
   "execution_count": null,
   "id": "e5a77c2c",
   "metadata": {},
   "outputs": [],
   "source": []
  },
  {
   "cell_type": "code",
   "execution_count": null,
   "id": "16a5cd39",
   "metadata": {},
   "outputs": [],
   "source": []
  },
  {
   "cell_type": "code",
   "execution_count": null,
   "id": "92bf81fd",
   "metadata": {},
   "outputs": [],
   "source": []
  }
 ],
 "metadata": {
  "kernelspec": {
   "display_name": "Python 3 (ipykernel)",
   "language": "python",
   "name": "python3"
  },
  "language_info": {
   "codemirror_mode": {
    "name": "ipython",
    "version": 3
   },
   "file_extension": ".py",
   "mimetype": "text/x-python",
   "name": "python",
   "nbconvert_exporter": "python",
   "pygments_lexer": "ipython3",
   "version": "3.11.7"
  }
 },
 "nbformat": 4,
 "nbformat_minor": 5
}
