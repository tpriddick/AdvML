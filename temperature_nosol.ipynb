{
 "cells": [
  {
   "cell_type": "code",
   "execution_count": 1,
   "id": "7bf7b3c2",
   "metadata": {},
   "outputs": [],
   "source": [
    "import torch\n",
    "import torch.nn as nn\n",
    "import torch.optim as optim\n",
    "from sklearn.preprocessing import StandardScaler\n",
    "import matplotlib.pyplot as plt"
   ]
  },
  {
   "cell_type": "code",
   "execution_count": 2,
   "id": "ecba1bfe",
   "metadata": {},
   "outputs": [],
   "source": [
    "\n",
    "\n",
    "# Input features (temperature in Celsius)\n",
    "t_c = [0.5, 14.0, 15.0, 28.0, 11.0, 8.0, 3.0, -4.0, 6.0, 13.0, 21.0]\n",
    "x = torch.tensor(t_c).view(-1, 1)  # Reshape to a 2D tensor with 11 rows and 1 column\n",
    "\n",
    "# Target values (temperature in Fahrenheit)\n",
    "t_u = [35.7, 55.9, 58.2, 81.9, 56.3, 48.9, 33.9, 21.8, 48.4, 60.4, 68.4]\n",
    "y = torch.tensor(t_u).view(-1, 1)  # Reshape to a 2D tensor with 11 rows and 1 column\n"
   ]
  },
  {
   "cell_type": "code",
   "execution_count": 3,
   "id": "7216169e",
   "metadata": {},
   "outputs": [
    {
     "data": {
      "image/png": "[encoded data removed]",
      "text/plain": [
       "<Figure size 640x480 with 1 Axes>"
      ]
     },
     "metadata": {},
     "output_type": "display_data"
    }
   ],
   "source": [
    "plt.scatter(t_c, t_u);"
   ]
  },
  {
   "cell_type": "code",
   "execution_count": 4,
   "id": "cd49d05f",
   "metadata": {},
   "outputs": [],
   "source": [
    "\n",
    "# Data normalization\n",
    "scaler_x = StandardScaler()\n",
    "scaler_y = StandardScaler()\n",
    "x_normalized = scaler_x.fit_transform(x.float())\n",
    "y_normalized = scaler_y.fit_transform(y.float())"
   ]
  },
  {
   "cell_type": "code",
   "execution_count": 5,
   "id": "02fdcd4e",
   "metadata": {},
   "outputs": [],
   "source": [
    "\n",
    "class LinearNet(nn.Module):\n",
    "    def __init__(self, input_size, output_size):\n",
    "        super(LinearNet, self).__init__()\n",
    "        self.lin_coeffs = nn.Linear(input_size, output_size)\n",
    "\n",
    "\n",
    "    def forward(self, x):\n",
    "        x = self.lin_coeffs(x)\n",
    "        return x\n",
    "\n",
    "    \n",
    "# Define a simple linear regression model\n",
    "class LinearRegression(nn.Module):\n",
    "    def __init__(self):\n",
    "        super(LinearRegression, self).__init__()\n",
    "        self.linear = nn.Linear(1, 1)  # One input feature, one output\n",
    "\n",
    "    def forward(self, x):\n",
    "        return self.linear(x)"
   ]
  },
  {
   "cell_type": "code",
   "execution_count": 6,
   "id": "f2117ae0",
   "metadata": {},
   "outputs": [],
   "source": [
    "\n",
    "# Instantiate the linear regression model, loss function, and optimizer\n",
    "#model = LinearRegression()\n",
    "model = LinearNet(1,1)\n",
    "criterion = nn.MSELoss()  # Mean Squared Error loss\n",
    "optimizer = optim.SGD(model.parameters(), lr=0.001)\n"
   ]
  },
  {
   "cell_type": "code",
   "execution_count": null,
   "id": "f8a2d014",
   "metadata": {},
   "outputs": [],
   "source": []
  },
  {
   "cell_type": "code",
   "execution_count": null,
   "id": "114c3511",
   "metadata": {},
   "outputs": [],
   "source": []
  },
  {
   "cell_type": "code",
   "execution_count": 7,
   "id": "313adfca",
   "metadata": {},
   "outputs": [
    {
     "name": "stdout",
     "output_type": "stream",
     "text": [
      "Epoch 1, Loss: 3.3908982276916504\n",
      "OrderedDict([('lin_coeffs.weight', tensor([[-0.6394]])), ('lin_coeffs.bias', tensor([0.8531]))])\n",
      "Epoch 101, Loss: 2.284599781036377\n",
      "OrderedDict([('lin_coeffs.weight', tensor([[-0.3454]])), ('lin_coeffs.bias', tensor([0.6983]))])\n",
      "Epoch 201, Loss: 1.5433228015899658\n",
      "OrderedDict([('lin_coeffs.weight', tensor([[-0.1048]])), ('lin_coeffs.bias', tensor([0.5716]))])\n",
      "Epoch 301, Loss: 1.0466285943984985\n",
      "OrderedDict([('lin_coeffs.weight', tensor([[0.0922]])), ('lin_coeffs.bias', tensor([0.4679]))])\n",
      "Epoch 401, Loss: 0.7138181328773499\n",
      "OrderedDict([('lin_coeffs.weight', tensor([[0.2534]])), ('lin_coeffs.bias', tensor([0.3830]))])\n",
      "Epoch 501, Loss: 0.49081793427467346\n",
      "OrderedDict([('lin_coeffs.weight', tensor([[0.3854]])), ('lin_coeffs.bias', tensor([0.3135]))])\n",
      "Epoch 601, Loss: 0.3413962423801422\n",
      "OrderedDict([('lin_coeffs.weight', tensor([[0.4934]])), ('lin_coeffs.bias', tensor([0.2566]))])\n",
      "Epoch 701, Loss: 0.24127601087093353\n",
      "OrderedDict([('lin_coeffs.weight', tensor([[0.5818]])), ('lin_coeffs.bias', tensor([0.2101]))])\n",
      "Epoch 801, Loss: 0.17419037222862244\n",
      "OrderedDict([('lin_coeffs.weight', tensor([[0.6542]])), ('lin_coeffs.bias', tensor([0.1720]))])\n",
      "Epoch 901, Loss: 0.12923938035964966\n",
      "OrderedDict([('lin_coeffs.weight', tensor([[0.7135]])), ('lin_coeffs.bias', tensor([0.1408]))])\n",
      "Final Model Parameters: OrderedDict([('lin_coeffs.weight', tensor([[0.7620]])), ('lin_coeffs.bias', tensor([0.1152]))])\n"
     ]
    }
   ],
   "source": [
    "\n",
    "\n",
    "# Training loop\n",
    "num_epochs = 1000\n",
    "for epoch in range(num_epochs):\n",
    "    # Forward pass: compute predicted y by passing x to the model\n",
    "    y_pred = model(torch.tensor(x_normalized, dtype=torch.float32))\n",
    "\n",
    "    # Compute and print loss\n",
    "    loss = criterion(y_pred, torch.tensor(y_normalized, dtype=torch.float32))\n",
    "    if epoch % 100 == 0:\n",
    "        print(f'Epoch {epoch + 1}, Loss: {loss.item()}')\n",
    "        print(model.state_dict())\n",
    "\n",
    "    # Zero gradients, perform a backward pass, and update weights\n",
    "    optimizer.zero_grad()\n",
    "    loss.backward()\n",
    "    optimizer.step()\n",
    "\n",
    "# After training, print the final model parameters\n",
    "print(f'Final Model Parameters: {model.state_dict()}')\n",
    "\n"
   ]
  },
  {
   "cell_type": "code",
   "execution_count": 8,
   "id": "1f2bef5d",
   "metadata": {},
   "outputs": [
    {
     "data": {
      "text/plain": [
       "array([8.78273099])"
      ]
     },
     "execution_count": 8,
     "metadata": {},
     "output_type": "execute_result"
    }
   ],
   "source": [
    "scaler_x.scale_"
   ]
  },
  {
   "cell_type": "code",
   "execution_count": null,
   "id": "0948986b",
   "metadata": {},
   "outputs": [],
   "source": []
  },
  {
   "cell_type": "code",
   "execution_count": null,
   "id": "5fa433c8",
   "metadata": {},
   "outputs": [],
   "source": []
  },
  {
   "cell_type": "markdown",
   "id": "1af4f28a",
   "metadata": {},
   "source": [
    "### Penguins\n",
    "\n"
   ]
  },
  {
   "cell_type": "code",
   "execution_count": 9,
   "id": "ac470cdb",
   "metadata": {},
   "outputs": [],
   "source": [
    "import seaborn as sns\n",
    "import pandas as pd\n",
    "from sklearn.preprocessing import OneHotEncoder, LabelEncoder\n",
    "from torch.utils.data import Dataset, DataLoader\n",
    "from sklearn.model_selection import train_test_split"
   ]
  },
  {
   "cell_type": "code",
   "execution_count": 10,
   "id": "c61fdd4f",
   "metadata": {},
   "outputs": [],
   "source": [
    "penguins = sns.load_dataset(\"penguins\")\n",
    "\n",
    "penguins = penguins.dropna()"
   ]
  },
  {
   "cell_type": "code",
   "execution_count": 11,
   "id": "5850fefb",
   "metadata": {},
   "outputs": [
    {
     "data": {
      "text/html": [
       "<div>\n",
       "<style scoped>\n",
       "    .dataframe tbody tr th:only-of-type {\n",
       "        vertical-align: middle;\n",
       "    }\n",
       "\n",
       "    .dataframe tbody tr th {\n",
       "        vertical-align: top;\n",
       "    }\n",
       "\n",
       "    .dataframe thead th {\n",
       "        text-align: right;\n",
       "    }\n",
       "</style>\n",
       "<table border=\"1\" class=\"dataframe\">\n",
       "  <thead>\n",
       "    <tr style=\"text-align: right;\">\n",
       "      <th></th>\n",
       "      <th>species</th>\n",
       "      <th>island</th>\n",
       "      <th>bill_length_mm</th>\n",
       "      <th>bill_depth_mm</th>\n",
       "      <th>flipper_length_mm</th>\n",
       "      <th>body_mass_g</th>\n",
       "      <th>sex</th>\n",
       "    </tr>\n",
       "  </thead>\n",
       "  <tbody>\n",
       "    <tr>\n",
       "      <th>0</th>\n",
       "      <td>Adelie</td>\n",
       "      <td>Torgersen</td>\n",
       "      <td>39.1</td>\n",
       "      <td>18.7</td>\n",
       "      <td>181.0</td>\n",
       "      <td>3750.0</td>\n",
       "      <td>Male</td>\n",
       "    </tr>\n",
       "    <tr>\n",
       "      <th>1</th>\n",
       "      <td>Adelie</td>\n",
       "      <td>Torgersen</td>\n",
       "      <td>39.5</td>\n",
       "      <td>17.4</td>\n",
       "      <td>186.0</td>\n",
       "      <td>3800.0</td>\n",
       "      <td>Female</td>\n",
       "    </tr>\n",
       "    <tr>\n",
       "      <th>2</th>\n",
       "      <td>Adelie</td>\n",
       "      <td>Torgersen</td>\n",
       "      <td>40.3</td>\n",
       "      <td>18.0</td>\n",
       "      <td>195.0</td>\n",
       "      <td>3250.0</td>\n",
       "      <td>Female</td>\n",
       "    </tr>\n",
       "    <tr>\n",
       "      <th>4</th>\n",
       "      <td>Adelie</td>\n",
       "      <td>Torgersen</td>\n",
       "      <td>36.7</td>\n",
       "      <td>19.3</td>\n",
       "      <td>193.0</td>\n",
       "      <td>3450.0</td>\n",
       "      <td>Female</td>\n",
       "    </tr>\n",
       "    <tr>\n",
       "      <th>5</th>\n",
       "      <td>Adelie</td>\n",
       "      <td>Torgersen</td>\n",
       "      <td>39.3</td>\n",
       "      <td>20.6</td>\n",
       "      <td>190.0</td>\n",
       "      <td>3650.0</td>\n",
       "      <td>Male</td>\n",
       "    </tr>\n",
       "  </tbody>\n",
       "</table>\n",
       "</div>"
      ],
      "text/plain": [
       "  species     island  bill_length_mm  bill_depth_mm  flipper_length_mm  \\\n",
       "0  Adelie  Torgersen            39.1           18.7              181.0   \n",
       "1  Adelie  Torgersen            39.5           17.4              186.0   \n",
       "2  Adelie  Torgersen            40.3           18.0              195.0   \n",
       "4  Adelie  Torgersen            36.7           19.3              193.0   \n",
       "5  Adelie  Torgersen            39.3           20.6              190.0   \n",
       "\n",
       "   body_mass_g     sex  \n",
       "0       3750.0    Male  \n",
       "1       3800.0  Female  \n",
       "2       3250.0  Female  \n",
       "4       3450.0  Female  \n",
       "5       3650.0    Male  "
      ]
     },
     "execution_count": 11,
     "metadata": {},
     "output_type": "execute_result"
    }
   ],
   "source": [
    "penguins.head()"
   ]
  },
  {
   "cell_type": "code",
   "execution_count": 12,
   "id": "9fb2c0b0",
   "metadata": {},
   "outputs": [
    {
     "data": {
      "text/plain": [
       "(333, 7)"
      ]
     },
     "execution_count": 12,
     "metadata": {},
     "output_type": "execute_result"
    }
   ],
   "source": [
    "penguins.shape"
   ]
  },
  {
   "cell_type": "code",
   "execution_count": 13,
   "id": "a0bf1bea",
   "metadata": {},
   "outputs": [],
   "source": [
    "label_encoder = LabelEncoder()\n",
    "penguins['species_encoded'] = label_encoder.fit_transform(penguins['species'])"
   ]
  },
  {
   "cell_type": "code",
   "execution_count": 14,
   "id": "20920c8d",
   "metadata": {},
   "outputs": [],
   "source": [
    "class PenguinDataset(Dataset):\n",
    "    def __init__(self, data):\n",
    "        self.X = data[['bill_length_mm', 'bill_depth_mm', 'flipper_length_mm', 'body_mass_g']].values\n",
    "        self.y = data['species_encoded'].values\n",
    "        self.n_samples = len(data)\n",
    "\n",
    "    def __getitem__(self, index):\n",
    "        return torch.tensor(self.X[index], dtype=torch.float32), torch.tensor(self.y[index], dtype=torch.int64)\n",
    "\n",
    "    def __len__(self):\n",
    "        return self.n_samples"
   ]
  },
  {
   "cell_type": "code",
   "execution_count": 15,
   "id": "2e3d898c",
   "metadata": {},
   "outputs": [],
   "source": [
    "\n",
    "train_data, test_data = train_test_split(penguins, test_size=0.2, random_state=12345)\n",
    "\n",
    "train_dataset = PenguinDataset(train_data)\n",
    "test_dataset = PenguinDataset(test_data)\n",
    "\n",
    "train_loader = DataLoader(dataset=train_dataset, batch_size=16, shuffle=True)\n",
    "test_loader = DataLoader(dataset=test_dataset, batch_size=16, shuffle=False)"
   ]
  },
  {
   "cell_type": "code",
   "execution_count": 16,
   "id": "892cc1a8",
   "metadata": {},
   "outputs": [
    {
     "data": {
      "text/plain": [
       "(tensor([  42.0000,   19.5000,  200.0000, 4050.0000]), tensor(0))"
      ]
     },
     "execution_count": 16,
     "metadata": {},
     "output_type": "execute_result"
    }
   ],
   "source": [
    "train_dataset.__getitem__(5)"
   ]
  },
  {
   "cell_type": "code",
   "execution_count": 17,
   "id": "33f10bbd",
   "metadata": {},
   "outputs": [],
   "source": [
    "class SimpleNN(nn.Module):\n",
    "    def __init__(self, input_size, hidden_size, num_classes):\n",
    "        super(SimpleNN, self).__init__()\n",
    "        self.fc1 = nn.Linear(input_size, hidden_size)\n",
    "        self.relu = nn.ReLU()\n",
    "        self.fc2 = nn.Linear(hidden_size, num_classes)\n",
    "\n",
    "    def forward(self, x):\n",
    "        out = self.fc1(x)\n",
    "        out = self.relu(out)\n",
    "        out = self.fc2(out)\n",
    "        return out"
   ]
  },
  {
   "cell_type": "code",
   "execution_count": 18,
   "id": "36c4339c",
   "metadata": {},
   "outputs": [],
   "source": [
    "\n",
    "input_size = 4  # Number of features\n",
    "hidden_size = 64  # Size of the hidden layer\n",
    "num_classes = len(label_encoder.classes_) \n",
    "learning_rate = 0.001"
   ]
  },
  {
   "cell_type": "code",
   "execution_count": 19,
   "id": "a5dea079",
   "metadata": {},
   "outputs": [],
   "source": [
    "\n",
    "model = SimpleNN(input_size, hidden_size, num_classes)\n",
    "criterion = nn.CrossEntropyLoss()\n",
    "optimizer = optim.Adam(model.parameters(), lr=learning_rate)"
   ]
  },
  {
   "cell_type": "code",
   "execution_count": 20,
   "id": "36893419",
   "metadata": {},
   "outputs": [
    {
     "name": "stdout",
     "output_type": "stream",
     "text": [
      "Epoch 1/10, Loss: 115.5869\n",
      "Epoch 2/10, Loss: 26.5169\n",
      "Epoch 3/10, Loss: 11.0101\n",
      "Epoch 4/10, Loss: 3.9553\n",
      "Epoch 5/10, Loss: 1.9202\n",
      "Epoch 6/10, Loss: 2.8724\n",
      "Epoch 7/10, Loss: 3.5453\n",
      "Epoch 8/10, Loss: 1.5377\n",
      "Epoch 9/10, Loss: 2.0079\n",
      "Epoch 10/10, Loss: 1.9986\n"
     ]
    }
   ],
   "source": [
    "\n",
    "# Training loop\n",
    "num_epochs = 10\n",
    "\n",
    "for epoch in range(num_epochs):\n",
    "    model.train()\n",
    "    running_loss = 0.0\n",
    "    for inputs, targets in train_loader:\n",
    "        optimizer.zero_grad()\n",
    "        outputs = model(inputs)\n",
    "        loss = criterion(outputs, targets)\n",
    "        loss.backward()\n",
    "        optimizer.step()\n",
    "        running_loss += loss.item()\n",
    "    epoch_loss = running_loss / len(train_loader)\n",
    "    print(f\"Epoch {epoch+1}/{num_epochs}, Loss: {epoch_loss:.4f}\")\n"
   ]
  },
  {
   "cell_type": "code",
   "execution_count": 21,
   "id": "fe9988bb",
   "metadata": {},
   "outputs": [
    {
     "name": "stdout",
     "output_type": "stream",
     "text": [
      "Accuracy on test set: 53.73%\n"
     ]
    }
   ],
   "source": [
    "\n",
    "# Evaluation on the test set\n",
    "model.eval()\n",
    "correct = 0\n",
    "total = 0\n",
    "\n",
    "# might be worth picking this apart line by line...\n",
    "with torch.no_grad():\n",
    "    for inputs, targets in test_loader:\n",
    "        outputs = model(inputs)\n",
    "        _, predicted = torch.max(outputs.data, 1)\n",
    "        total += targets.size(0)\n",
    "        correct += (predicted == targets).sum().item()\n",
    "\n",
    "accuracy = correct / total\n",
    "print(f\"Accuracy on test set: {accuracy:.2%}\")"
   ]
  },
  {
   "cell_type": "code",
   "execution_count": null,
   "id": "5b443142",
   "metadata": {},
   "outputs": [],
   "source": []
  },
  {
   "cell_type": "markdown",
   "id": "cc4a34ea",
   "metadata": {},
   "source": [
    "Well that was awful. Before we fix it..."
   ]
  },
  {
   "cell_type": "code",
   "execution_count": 22,
   "id": "fc300a2b",
   "metadata": {},
   "outputs": [
    {
     "name": "stdout",
     "output_type": "stream",
     "text": [
      "tensor([[  37.7000,   18.7000,  180.0000, 3600.0000],\n",
      "        [  42.7000,   13.7000,  208.0000, 3950.0000],\n",
      "        [  39.2000,   21.1000,  196.0000, 4150.0000]])\n",
      "tensor([[266.2325, 268.1682, 268.5432],\n",
      "        [292.2104, 294.2860, 296.6678],\n",
      "        [304.9929, 308.0812, 309.1905]])\n",
      "tensor([2, 2, 2])\n",
      "\n",
      "\n",
      "\n",
      "\n",
      "tensor([[  37.7000,   18.7000,  180.0000, 3600.0000],\n",
      "        [  42.7000,   13.7000,  208.0000, 3950.0000],\n",
      "        [  39.2000,   21.1000,  196.0000, 4150.0000]])\n",
      "tensor([[266.2325, 268.1682, 268.5432],\n",
      "        [292.2104, 294.2860, 296.6678],\n",
      "        [304.9929, 308.0812, 309.1905]])\n",
      "tensor([2, 2, 2])\n",
      "\n",
      "\n",
      "\n",
      "\n",
      "tensor([[  37.7000,   18.7000,  180.0000, 3600.0000],\n",
      "        [  42.7000,   13.7000,  208.0000, 3950.0000],\n",
      "        [  39.2000,   21.1000,  196.0000, 4150.0000]])\n",
      "tensor([[266.2325, 268.1682, 268.5432],\n",
      "        [292.2104, 294.2860, 296.6678],\n",
      "        [304.9929, 308.0812, 309.1905]])\n",
      "tensor([2, 2, 2])\n",
      "\n",
      "\n",
      "\n",
      "\n"
     ]
    }
   ],
   "source": [
    "num_batches_to_iterate = 3  # Specify the number of batches you want to iterate through\n",
    "\n",
    "\n",
    "with torch.no_grad():\n",
    "    for batch_idx, batch in enumerate(test_loader):\n",
    "        if batch_idx >= num_batches_to_iterate:\n",
    "            break\n",
    "        outputs = model(inputs)\n",
    "        print(inputs)\n",
    "        print(outputs)\n",
    "        _, predicted = torch.max(outputs.data, 1)\n",
    "        print(predicted)\n",
    "        print('\\n\\n\\n')"
   ]
  },
  {
   "cell_type": "code",
   "execution_count": null,
   "id": "4120e121",
   "metadata": {},
   "outputs": [],
   "source": []
  },
  {
   "cell_type": "code",
   "execution_count": null,
   "id": "c39e721e",
   "metadata": {},
   "outputs": [],
   "source": []
  },
  {
   "cell_type": "code",
   "execution_count": null,
   "id": "e8a6d922",
   "metadata": {},
   "outputs": [],
   "source": [
    "from sklearn.preprocessing import StandardScaler\n",
    "\n",
    "scaler = StandardScaler()\n",
    "scaled_features = scaler.fit_transform(penguins[['bill_length_mm', 'bill_depth_mm', 'flipper_length_mm', 'body_mass_g']])\n",
    "penguins[['bill_length_mm', 'bill_depth_mm', 'flipper_length_mm', 'body_mass_g']] = scaled_features\n"
   ]
  },
  {
   "cell_type": "code",
   "execution_count": null,
   "id": "a3a67c07",
   "metadata": {},
   "outputs": [],
   "source": [
    "\n",
    "train_data, test_data = train_test_split(penguins, test_size=0.2, random_state=12345)\n",
    "\n",
    "train_dataset = PenguinDataset(train_data)\n",
    "test_dataset = PenguinDataset(test_data)\n",
    "\n",
    "train_loader = DataLoader(dataset=train_dataset, batch_size=16, shuffle=True)\n",
    "test_loader = DataLoader(dataset=test_dataset, batch_size=16, shuffle=False)\n",
    "\n",
    "\n",
    "model = SimpleNN(input_size, hidden_size, num_classes)\n",
    "criterion = nn.CrossEntropyLoss()\n",
    "optimizer = optim.Adam(model.parameters(), lr=learning_rate)"
   ]
  },
  {
   "cell_type": "code",
   "execution_count": null,
   "id": "29108144",
   "metadata": {},
   "outputs": [],
   "source": [
    "\n",
    "# Training loop\n",
    "num_epochs = 10\n",
    "\n",
    "for epoch in range(num_epochs):\n",
    "    model.train()\n",
    "    running_loss = 0.0\n",
    "    for inputs, targets in train_loader:\n",
    "        optimizer.zero_grad()\n",
    "        outputs = model(inputs)\n",
    "        loss = criterion(outputs, targets)\n",
    "        loss.backward()\n",
    "        optimizer.step()\n",
    "        running_loss += loss.item()\n",
    "    epoch_loss = running_loss / len(train_loader)\n",
    "    print(f\"Epoch {epoch+1}/{num_epochs}, Loss: {epoch_loss:.4f}\")\n"
   ]
  },
  {
   "cell_type": "code",
   "execution_count": null,
   "id": "39562c2f",
   "metadata": {},
   "outputs": [],
   "source": [
    "\n",
    "# Evaluation on the test set\n",
    "model.eval()\n",
    "correct = 0\n",
    "total = 0\n",
    "\n",
    "with torch.no_grad():\n",
    "    for inputs, targets in test_loader:\n",
    "        outputs = model(inputs)\n",
    "        _, predicted = torch.max(outputs.data, 1)\n",
    "        total += targets.size(0)\n",
    "        correct += (predicted == targets).sum().item()\n",
    "\n",
    "accuracy = correct / total\n",
    "print(f\"Accuracy on test set: {accuracy:.2%}\")"
   ]
  },
  {
   "cell_type": "code",
   "execution_count": null,
   "id": "d15b83ca",
   "metadata": {},
   "outputs": [],
   "source": []
  },
  {
   "cell_type": "markdown",
   "id": "b4430e05",
   "metadata": {},
   "source": [
    "How striking!"
   ]
  },
  {
   "cell_type": "code",
   "execution_count": null,
   "id": "ec950079",
   "metadata": {},
   "outputs": [],
   "source": []
  },
  {
   "cell_type": "code",
   "execution_count": null,
   "id": "7bf118eb",
   "metadata": {},
   "outputs": [],
   "source": []
  },
  {
   "cell_type": "markdown",
   "id": "3e917e01",
   "metadata": {},
   "source": [
    "### Exercise: the titanic"
   ]
  },
  {
   "cell_type": "code",
   "execution_count": null,
   "id": "4056ebb1",
   "metadata": {},
   "outputs": [],
   "source": [
    "\n",
    "# Load the Titanic dataset\n",
    "url = \"https://web.stanford.edu/class/archive/cs/cs109/cs109.1166/stuff/titanic.csv\"\n",
    "titanic_df = pd.read_csv(url)\n",
    "\n",
    "# Drop rows with missing values for simplicity\n",
    "titanic_df = titanic_df.dropna()\n"
   ]
  },
  {
   "cell_type": "code",
   "execution_count": null,
   "id": "d511ec5f",
   "metadata": {},
   "outputs": [],
   "source": [
    "titanic_df.head()"
   ]
  },
  {
   "cell_type": "code",
   "execution_count": null,
   "id": "18f30301",
   "metadata": {},
   "outputs": [],
   "source": []
  },
  {
   "cell_type": "markdown",
   "id": "49b3c60b",
   "metadata": {},
   "source": [
    "#### your exercise:\n",
    "\n",
    "Create a neural network as above to model survival on the titanic dataset. There are several ways to do this. Here are some suggestions:\n",
    "* change the size of the output layer (a simple probability, so 1)\n",
    "* change the output of the final hidden layer to be a probability using nn.Sigmoid()\n",
    "* change the loss criterion to be nn.BCELoss()\n",
    "\n",
    "Please note that you can do this all differently: use 2 outputs (one per class), omit sigmoid and keep the same loss function, but the difference might be instructive. \n",
    "\n",
    "* also: explore variations of the model architecture (multiple hidden layers? hidden layer size? etc.) and see how far you can push the model performance!\n",
    "\n",
    "I encourage you to print out lots of intermediate things (your tensors? what is in your data loader? model parameters and performance? etc.)! I learned a lot doing it and I bet you will too."
   ]
  },
  {
   "cell_type": "markdown",
   "id": "2c94f096",
   "metadata": {},
   "source": [
    "#### solution:"
   ]
  },
  {
   "cell_type": "code",
   "execution_count": null,
   "id": "d8eab797",
   "metadata": {},
   "outputs": [],
   "source": []
  },
  {
   "cell_type": "code",
   "execution_count": null,
   "id": "4a0feb17",
   "metadata": {},
   "outputs": [],
   "source": []
  },
  {
   "cell_type": "code",
   "execution_count": null,
   "id": "ebd0c240",
   "metadata": {},
   "outputs": [],
   "source": []
  },
  {
   "cell_type": "code",
   "execution_count": null,
   "id": "09b20772",
   "metadata": {},
   "outputs": [],
   "source": []
  },
  {
   "cell_type": "code",
   "execution_count": null,
   "id": "9d042963",
   "metadata": {},
   "outputs": [],
   "source": []
  }
 ],
 "metadata": {
  "kernelspec": {
   "display_name": "Python 3 (ipykernel)",
   "language": "python",
   "name": "python3"
  },
  "language_info": {
   "codemirror_mode": {
    "name": "ipython",
    "version": 3
   },
   "file_extension": ".py",
   "mimetype": "text/x-python",
   "name": "python",
   "nbconvert_exporter": "python",
   "pygments_lexer": "ipython3",
   "version": "3.11.7"
  }
 },
 "nbformat": 4,
 "nbformat_minor": 5
}
